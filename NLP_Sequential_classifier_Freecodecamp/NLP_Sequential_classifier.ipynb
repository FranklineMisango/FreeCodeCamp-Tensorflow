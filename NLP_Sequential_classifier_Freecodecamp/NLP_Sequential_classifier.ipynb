{
  "nbformat": 4,
  "nbformat_minor": 0,
  "metadata": {
    "colab": {
      "name": "NLP_Sequential_classifier.ipynb",
      "provenance": [],
      "authorship_tag": "ABX9TyOvc3/nmm5PrpF/aOUMoFR1",
      "include_colab_link": true
    },
    "kernelspec": {
      "name": "python3",
      "display_name": "Python 3"
    },
    "language_info": {
      "name": "python"
    }
  },
  "cells": [
    {
      "cell_type": "markdown",
      "metadata": {
        "id": "view-in-github",
        "colab_type": "text"
      },
      "source": [
        "<a href=\"https://colab.research.google.com/github/FranklineMisango/NLP_Sequential_classifier_Freecodecamp/blob/main/NLP_Sequential_classifier.ipynb\" target=\"_parent\"><img src=\"https://colab.research.google.com/assets/colab-badge.svg\" alt=\"Open In Colab\"/></a>"
      ]
    },
    {
      "cell_type": "markdown",
      "source": [
        "RNN Play Generator --> Sequential data \n",
        "\n",
        "Now time for one of the coolest examples we've seen so far. We are going to use a RNN to generate a play. We will simply show the RNN an example of something we want it to recreate and it will learn how to write a version of it on its own. We'll do this using a character predictive model that will take as input a variable length sequence and predict the next character. We can use the model many times in a row with the output from the last predicition as the input for the next call to generate a sequence."
      ],
      "metadata": {
        "id": "v5Es6oKuzFb5"
      }
    },
    {
      "cell_type": "code",
      "execution_count": 1,
      "metadata": {
        "colab": {
          "base_uri": "https://localhost:8080/"
        },
        "id": "cNPtSs0yy2C6",
        "outputId": "d8e9f91b-2430-4933-851b-ddf44b99eec8"
      },
      "outputs": [
        {
          "output_type": "stream",
          "name": "stdout",
          "text": [
            "`%tensorflow_version` only switches the major version: 1.x or 2.x.\n",
            "You set: `2.x  # this line is not required unless you are in a notebook`. This will be interpreted as: `2.x`.\n",
            "\n",
            "\n",
            "TensorFlow 2.x selected.\n"
          ]
        }
      ],
      "source": [
        "%tensorflow_version 2.x  # this line is not required unless you are in a notebook\n",
        "from keras.preprocessing import sequence\n",
        "import keras\n",
        "import tensorflow as tf\n",
        "import os\n",
        "import numpy as np"
      ]
    },
    {
      "cell_type": "code",
      "source": [
        "#download the Romeo and juliet text\n",
        "\n",
        "\n",
        "path_to_file = tf.keras.utils.get_file('shakespeare.txt', 'https://storage.googleapis.com/download.tensorflow.org/data/shakespeare.txt')"
      ],
      "metadata": {
        "colab": {
          "base_uri": "https://localhost:8080/"
        },
        "id": "C9vvyMOQ0OUr",
        "outputId": "0bdbdd22-71bb-4718-b947-e1fb321fee02"
      },
      "execution_count": 3,
      "outputs": [
        {
          "output_type": "stream",
          "name": "stdout",
          "text": [
            "Downloading data from https://storage.googleapis.com/download.tensorflow.org/data/shakespeare.txt\n",
            "1122304/1115394 [==============================] - 0s 0us/step\n",
            "1130496/1115394 [==============================] - 0s 0us/step\n"
          ]
        }
      ]
    },
    {
      "cell_type": "code",
      "source": [
        "# Read, then decode for py2 compat.\n",
        "text = open(path_to_file, 'rb').read().decode(encoding='utf-8')\n",
        "# length of text is the number of characters in it\n",
        "print ('Length of text: {} characters'.format(len(text)))"
      ],
      "metadata": {
        "colab": {
          "base_uri": "https://localhost:8080/"
        },
        "id": "lTsc5JQZ0Tet",
        "outputId": "fff330c7-d9ce-4de8-f0ab-b1a422d53c81"
      },
      "execution_count": 4,
      "outputs": [
        {
          "output_type": "stream",
          "name": "stdout",
          "text": [
            "Length of text: 1115394 characters\n"
          ]
        }
      ]
    },
    {
      "cell_type": "code",
      "source": [
        "# Take a look at the first 250 characters in text\n",
        "print(text[:250])"
      ],
      "metadata": {
        "colab": {
          "base_uri": "https://localhost:8080/"
        },
        "id": "tOT7rkui03vq",
        "outputId": "f0e2f515-07ae-4a51-89d2-0dcc72bddf4a"
      },
      "execution_count": 5,
      "outputs": [
        {
          "output_type": "stream",
          "name": "stdout",
          "text": [
            "First Citizen:\n",
            "Before we proceed any further, hear me speak.\n",
            "\n",
            "All:\n",
            "Speak, speak.\n",
            "\n",
            "First Citizen:\n",
            "You are all resolved rather to die than to famish?\n",
            "\n",
            "All:\n",
            "Resolved. resolved.\n",
            "\n",
            "First Citizen:\n",
            "First, you know Caius Marcius is chief enemy to the people.\n",
            "\n"
          ]
        }
      ]
    },
    {
      "cell_type": "code",
      "source": [
        "vocab = sorted(set(text))\n",
        "# Creating a mapping from unique characters to indices\n",
        "char2idx = {u:i for i, u in enumerate(vocab)}\n",
        "idx2char = np.array(vocab)\n",
        "\n",
        "def text_to_int(text):\n",
        "  return np.array([char2idx[c] for c in text])\n",
        "\n",
        "text_as_int = text_to_int(text)"
      ],
      "metadata": {
        "id": "E0UkEk3x0_Ry"
      },
      "execution_count": 6,
      "outputs": []
    },
    {
      "cell_type": "code",
      "source": [
        "# lets look at how part of our text is encoded\n",
        "print(\"Text:\", text[:13])\n",
        "print(\"Encoded:\", text_to_int(text[:13]))"
      ],
      "metadata": {
        "colab": {
          "base_uri": "https://localhost:8080/"
        },
        "id": "4mwKYGEl1Cxn",
        "outputId": "30ab1085-3b28-42e2-e825-58f324bad369"
      },
      "execution_count": 7,
      "outputs": [
        {
          "output_type": "stream",
          "name": "stdout",
          "text": [
            "Text: First Citizen\n",
            "Encoded: [18 47 56 57 58  1 15 47 58 47 64 43 52]\n"
          ]
        }
      ]
    },
    {
      "cell_type": "code",
      "source": [
        "def int_to_text(ints):\n",
        "  try:\n",
        "    ints = ints.numpy()\n",
        "  except:\n",
        "    pass\n",
        "  return ''.join(idx2char[ints])\n",
        "\n",
        "print(int_to_text(text_as_int[:13]))\n",
        "\n",
        "#Converts text to an integer"
      ],
      "metadata": {
        "colab": {
          "base_uri": "https://localhost:8080/"
        },
        "id": "9ERlqPWs1FHt",
        "outputId": "4dc74a9b-6f54-464d-cdec-e75f309e0786"
      },
      "execution_count": 8,
      "outputs": [
        {
          "output_type": "stream",
          "name": "stdout",
          "text": [
            "First Citizen\n"
          ]
        }
      ]
    },
    {
      "cell_type": "markdown",
      "source": [
        "###Creating Training Examples\n",
        "Remember our task is to feed the model a sequence and have it return to us the next character. This means we need to split our text data from above into many shorter sequences that we can pass to the model as training examples. \n",
        "\n",
        "The training examples we will prepapre will use a *seq_length* sequence as input and a *seq_length* sequence as the output where that sequence is the original sequence shifted one letter to the right. For example:\n",
        "\n",
        "```input: Hell | output: ello```\n",
        "\n",
        "Our first step will be to create a stream of characters from our text data."
      ],
      "metadata": {
        "id": "aTe48VOc2J-B"
      }
    },
    {
      "cell_type": "code",
      "source": [
        "#Training examples\n",
        "\n",
        "\n",
        "seq_length = 100  # length of sequence for a training example\n",
        "examples_per_epoch = len(text)//(seq_length+1)\n",
        "\n",
        "# Create training examples / targets\n",
        "char_dataset = tf.data.Dataset.from_tensor_slices(text_as_int)"
      ],
      "metadata": {
        "id": "mcH3Tsor11JW"
      },
      "execution_count": 9,
      "outputs": []
    },
    {
      "cell_type": "code",
      "source": [
        "sequences = char_dataset.batch(seq_length+1, drop_remainder=True)\n",
        "\n",
        "\n",
        "#Adds them into batches of 101 in length"
      ],
      "metadata": {
        "id": "ImaRNS5N2Ajw"
      },
      "execution_count": 10,
      "outputs": []
    },
    {
      "cell_type": "code",
      "source": [
        "def split_input_target(chunk):  # for the example: hello\n",
        "    input_text = chunk[:-1]  # hell\n",
        "    target_text = chunk[1:]  # ello\n",
        "    return input_text, target_text  # hell, ello\n",
        "\n",
        "dataset = sequences.map(split_input_target)  # we use map to apply the above function to every entry"
      ],
      "metadata": {
        "id": "7Z73DPYX2DfK"
      },
      "execution_count": 11,
      "outputs": []
    },
    {
      "cell_type": "code",
      "source": [
        "for x, y in dataset.take(2):\n",
        "  print(\"\\n\\nEXAMPLE\\n\")\n",
        "  print(\"INPUT\")\n",
        "  print(int_to_text(x))\n",
        "  print(\"\\nOUTPUT\")\n",
        "  print(int_to_text(y))"
      ],
      "metadata": {
        "id": "-iRalm0p2lt4"
      },
      "execution_count": null,
      "outputs": []
    },
    {
      "cell_type": "code",
      "source": [
        "BATCH_SIZE = 64\n",
        "VOCAB_SIZE = len(vocab)  # vocab is number of unique characters\n",
        "EMBEDDING_DIM = 256\n",
        "RNN_UNITS = 1024\n",
        "\n",
        "# Buffer size to shuffle the dataset\n",
        "# (TF data is designed to work with possibly infinite sequences,\n",
        "# so it doesn't attempt to shuffle the entire sequence in memory. Instead,\n",
        "# it maintains a buffer in which it shuffles elements).\n",
        "BUFFER_SIZE = 10000\n",
        "\n",
        "data = dataset.shuffle(BUFFER_SIZE).batch(BATCH_SIZE, drop_remainder=True)"
      ],
      "metadata": {
        "id": "xV9Suw6q263x"
      },
      "execution_count": 14,
      "outputs": []
    },
    {
      "cell_type": "code",
      "source": [
        "def build_model(vocab_size, embedding_dim, rnn_units, batch_size):\n",
        "  model = tf.keras.Sequential([\n",
        "    tf.keras.layers.Embedding(vocab_size, embedding_dim,\n",
        "                              batch_input_shape=[batch_size, None]),\n",
        "    tf.keras.layers.LSTM(rnn_units,\n",
        "                        return_sequences=True,\n",
        "                        stateful=True,\n",
        "                        recurrent_initializer='glorot_uniform'),\n",
        "    tf.keras.layers.Dense(vocab_size)\n",
        "  ])\n",
        "  return model\n",
        "\n",
        "model = build_model(VOCAB_SIZE,EMBEDDING_DIM, RNN_UNITS, BATCH_SIZE)\n",
        "model.summary()"
      ],
      "metadata": {
        "colab": {
          "base_uri": "https://localhost:8080/"
        },
        "id": "3HtMmf9Y299m",
        "outputId": "3811cf15-81b9-4022-e92c-551b6820678b"
      },
      "execution_count": 15,
      "outputs": [
        {
          "output_type": "stream",
          "name": "stdout",
          "text": [
            "Model: \"sequential\"\n",
            "_________________________________________________________________\n",
            " Layer (type)                Output Shape              Param #   \n",
            "=================================================================\n",
            " embedding (Embedding)       (64, None, 256)           16640     \n",
            "                                                                 \n",
            " lstm (LSTM)                 (64, None, 1024)          5246976   \n",
            "                                                                 \n",
            " dense (Dense)               (64, None, 65)            66625     \n",
            "                                                                 \n",
            "=================================================================\n",
            "Total params: 5,330,241\n",
            "Trainable params: 5,330,241\n",
            "Non-trainable params: 0\n",
            "_________________________________________________________________\n"
          ]
        }
      ]
    },
    {
      "cell_type": "code",
      "source": [
        "for input_example_batch, target_example_batch in data.take(1):\n",
        "  example_batch_predictions = model(input_example_batch)  # ask our model for a prediction on our first batch of training data (64 entries)\n",
        "  print(example_batch_predictions.shape, \"# (batch_size, sequence_length, vocab_size)\")  # print out the output shape"
      ],
      "metadata": {
        "colab": {
          "base_uri": "https://localhost:8080/"
        },
        "id": "vmPzfWWH3Gpc",
        "outputId": "ecd760c8-8679-479a-e874-807ac5cb8cd9"
      },
      "execution_count": 16,
      "outputs": [
        {
          "output_type": "stream",
          "name": "stdout",
          "text": [
            "(64, 100, 65) # (batch_size, sequence_length, vocab_size)\n"
          ]
        }
      ]
    },
    {
      "cell_type": "code",
      "source": [
        "# we can see that the predicition is an array of 64 arrays, one for each entry in the batch\n",
        "print(len(example_batch_predictions))\n",
        "print(example_batch_predictions)"
      ],
      "metadata": {
        "colab": {
          "base_uri": "https://localhost:8080/"
        },
        "id": "wWb4dcGP3boK",
        "outputId": "8ce0bc59-63f4-469e-89d6-7deb66580223"
      },
      "execution_count": 17,
      "outputs": [
        {
          "output_type": "stream",
          "name": "stdout",
          "text": [
            "64\n",
            "tf.Tensor(\n",
            "[[[-1.38484628e-03 -2.62958091e-03 -2.20049103e-03 ...  1.95705006e-03\n",
            "    5.30055072e-03  1.19098974e-03]\n",
            "  [ 2.91415444e-03 -8.85869609e-04  2.75406474e-03 ...  1.01359480e-03\n",
            "   -1.52257876e-03 -5.32643124e-03]\n",
            "  [ 9.63903777e-03 -1.40086829e-03  5.64751308e-03 ... -4.53862920e-03\n",
            "   -6.14792167e-04 -1.84996775e-03]\n",
            "  ...\n",
            "  [ 1.82924848e-02  6.41267700e-03  6.44259341e-03 ... -9.70287807e-03\n",
            "   -5.73623646e-03 -5.69551066e-03]\n",
            "  [ 1.86425224e-02  4.94888565e-03  4.60319873e-03 ... -8.48404970e-03\n",
            "   -7.71339610e-03 -1.08253201e-02]\n",
            "  [ 1.88630521e-02  2.38239439e-03  1.79630122e-03 ... -2.02258863e-03\n",
            "   -5.63251041e-03 -2.33585271e-03]]\n",
            "\n",
            " [[ 1.33940857e-03 -1.59762672e-03 -2.21553212e-03 ...  7.70559243e-04\n",
            "   -5.17989858e-04 -1.16878841e-03]\n",
            "  [-3.40611581e-03  3.71578103e-03 -1.53601146e-03 ...  2.76343198e-03\n",
            "   -5.11797029e-04 -1.66128110e-03]\n",
            "  [ 8.30206904e-04  4.42638155e-03 -4.53643827e-03 ... -7.90145015e-04\n",
            "    6.83878956e-04 -7.44724553e-03]\n",
            "  ...\n",
            "  [ 6.83710817e-03 -6.25991961e-04 -5.37927961e-03 ...  1.66858453e-03\n",
            "   -2.08143238e-03  5.44028357e-03]\n",
            "  [ 2.73044966e-03  2.01810664e-03 -5.36685716e-03 ...  9.33573209e-03\n",
            "    4.28480003e-03  2.72971136e-03]\n",
            "  [ 2.61734868e-03 -2.67586973e-03 -9.43300687e-03 ...  1.06699523e-02\n",
            "    5.20458096e-04  3.38579877e-03]]\n",
            "\n",
            " [[ 3.18548316e-03 -2.96584051e-03 -3.57829826e-03 ...  4.28371970e-03\n",
            "    7.62533047e-04  4.99925762e-03]\n",
            "  [ 5.50954603e-03 -6.04187325e-03 -7.40574440e-03 ...  7.37642776e-03\n",
            "   -1.64378551e-03  5.99350780e-03]\n",
            "  [ 4.94671706e-03 -2.38451548e-03 -8.70856829e-03 ...  6.79043448e-03\n",
            "   -5.41190850e-03  8.86012893e-03]\n",
            "  ...\n",
            "  [ 8.40708427e-03  1.20751271e-02  2.17565917e-03 ... -8.53391737e-03\n",
            "    2.57841614e-03  7.65245408e-03]\n",
            "  [ 8.80426541e-03  9.99016128e-03 -1.48846908e-03 ... -8.31147749e-03\n",
            "    5.92390890e-04  1.11727808e-02]\n",
            "  [ 1.03772813e-02  1.04808165e-02  2.12922879e-03 ... -6.18061470e-03\n",
            "   -5.52266091e-03  4.02797898e-03]]\n",
            "\n",
            " ...\n",
            "\n",
            " [[ 1.98850501e-03  2.59302091e-04 -2.97620334e-03 ... -2.20875419e-03\n",
            "   -1.03723025e-04  3.34763341e-03]\n",
            "  [ 5.08154882e-03  2.70769605e-03  1.20332255e-03 ... -1.76266208e-03\n",
            "   -5.09187579e-03 -3.44232214e-03]\n",
            "  [-2.57422635e-03  1.77838560e-03  3.43684759e-03 ...  7.12120440e-04\n",
            "   -3.22913774e-03  7.48010352e-04]\n",
            "  ...\n",
            "  [ 8.25965032e-03 -5.13394363e-03 -7.70230126e-03 ... -1.78338513e-02\n",
            "   -7.35822553e-03  1.17571605e-03]\n",
            "  [ 3.41085950e-03  2.82579823e-03 -6.11186307e-03 ... -1.30986702e-02\n",
            "   -5.20731043e-03  2.21465738e-03]\n",
            "  [ 6.85409084e-03  4.58131731e-03 -5.32998145e-03 ... -1.19444728e-02\n",
            "   -6.71495870e-03 -4.54889191e-03]]\n",
            "\n",
            " [[ 3.37466365e-03  1.47332426e-03 -3.06134089e-03 ... -3.07454797e-03\n",
            "    7.71235034e-04 -5.94268320e-03]\n",
            "  [ 1.90346339e-03 -2.09312304e-03 -4.03044932e-03 ... -1.14840252e-04\n",
            "   -4.05627163e-03 -4.11228137e-03]\n",
            "  [-1.19512761e-03  2.85244687e-03 -3.51852248e-03 ...  1.10017159e-03\n",
            "    4.03851224e-03 -4.76988684e-03]\n",
            "  ...\n",
            "  [ 3.32576595e-03  7.28882966e-04  3.56636127e-03 ... -7.80868344e-03\n",
            "    5.25929208e-05  7.03698304e-03]\n",
            "  [-6.03246095e-04 -4.47180355e-03  5.44419419e-03 ... -6.51706103e-03\n",
            "   -4.97368223e-04 -3.42550920e-04]\n",
            "  [ 5.88804111e-03 -2.59008259e-03  6.69855718e-03 ... -1.07784998e-02\n",
            "    1.34467718e-03  2.68549379e-03]]\n",
            "\n",
            " [[ 1.98850501e-03  2.59302091e-04 -2.97620334e-03 ... -2.20875419e-03\n",
            "   -1.03723025e-04  3.34763341e-03]\n",
            "  [ 4.09582863e-04  8.57516425e-04  4.86574322e-03 ...  2.40436126e-03\n",
            "   -1.00180996e-03  1.92882330e-03]\n",
            "  [-8.94079159e-04  1.72971468e-03  6.36479165e-03 ...  6.96161063e-04\n",
            "    1.78227678e-03  6.15832862e-04]\n",
            "  ...\n",
            "  [ 8.17561429e-03  4.96175047e-03 -2.73102894e-03 ... -6.13075309e-03\n",
            "   -5.14728948e-03 -1.15938927e-03]\n",
            "  [ 1.37690837e-02  3.54604609e-03  5.29200304e-04 ... -9.90423746e-03\n",
            "   -2.65792618e-03  1.28385390e-03]\n",
            "  [ 8.10216554e-03 -3.11660999e-03  2.92477850e-03 ... -7.54037220e-03\n",
            "   -3.51640838e-03 -5.87657932e-03]]], shape=(64, 100, 65), dtype=float32)\n"
          ]
        }
      ]
    },
    {
      "cell_type": "code",
      "source": [
        "# lets examine one prediction\n",
        "pred = example_batch_predictions[0]\n",
        "print(len(pred))\n",
        "print(pred)\n",
        "# notice this is a 2d array of length 100, where each interior array is the prediction for the next character at each time step"
      ],
      "metadata": {
        "colab": {
          "base_uri": "https://localhost:8080/"
        },
        "id": "ibwY-OO13dwi",
        "outputId": "76c4b6a5-73f1-44a5-d952-0a3d0d7bdbef"
      },
      "execution_count": 18,
      "outputs": [
        {
          "output_type": "stream",
          "name": "stdout",
          "text": [
            "100\n",
            "tf.Tensor(\n",
            "[[-0.00138485 -0.00262958 -0.00220049 ...  0.00195705  0.00530055\n",
            "   0.00119099]\n",
            " [ 0.00291415 -0.00088587  0.00275406 ...  0.00101359 -0.00152258\n",
            "  -0.00532643]\n",
            " [ 0.00963904 -0.00140087  0.00564751 ... -0.00453863 -0.00061479\n",
            "  -0.00184997]\n",
            " ...\n",
            " [ 0.01829248  0.00641268  0.00644259 ... -0.00970288 -0.00573624\n",
            "  -0.00569551]\n",
            " [ 0.01864252  0.00494889  0.0046032  ... -0.00848405 -0.0077134\n",
            "  -0.01082532]\n",
            " [ 0.01886305  0.00238239  0.0017963  ... -0.00202259 -0.00563251\n",
            "  -0.00233585]], shape=(100, 65), dtype=float32)\n"
          ]
        }
      ]
    },
    {
      "cell_type": "code",
      "source": [
        "# and finally well look at a prediction at the first timestep\n",
        "time_pred = pred[0]\n",
        "print(len(time_pred))\n",
        "print(time_pred)\n",
        "# and of course its 65 values representing the probabillity of each character occuring next"
      ],
      "metadata": {
        "colab": {
          "base_uri": "https://localhost:8080/"
        },
        "id": "tkgjgSAe3fxp",
        "outputId": "83271600-a953-443d-e59b-1e51cc545d6c"
      },
      "execution_count": 20,
      "outputs": [
        {
          "output_type": "stream",
          "name": "stdout",
          "text": [
            "65\n",
            "tf.Tensor(\n",
            "[-1.3848463e-03 -2.6295809e-03 -2.2004910e-03  2.9544574e-03\n",
            " -5.1897638e-03 -4.7564169e-04 -3.9052966e-03  2.5018067e-03\n",
            "  4.6357163e-04 -3.1731743e-03  6.0384290e-04 -7.1505625e-03\n",
            "  3.4406949e-03  6.6216444e-03  4.0221615e-03  5.1128417e-03\n",
            "  2.6328303e-03  2.1358929e-03  1.4310228e-03 -1.3378740e-03\n",
            "  1.5920610e-05  4.1813180e-03  2.7221760e-03 -5.0958456e-04\n",
            " -2.0707110e-03 -7.0740837e-03  9.3742553e-04  1.4835687e-03\n",
            " -4.5352052e-03 -2.5776094e-03 -4.9438584e-03  1.5492011e-03\n",
            "  3.5637263e-03 -5.8521412e-04  6.9765449e-03 -3.5347024e-03\n",
            " -4.6314156e-04  2.1656547e-03  1.1349176e-03  1.7992344e-03\n",
            "  5.3559095e-03 -1.6233213e-03 -1.7289056e-03 -2.1866183e-03\n",
            " -1.5952294e-03 -2.9887492e-03  1.7089176e-03 -1.5906236e-03\n",
            "  3.8634590e-03 -1.9506941e-04 -4.1275034e-03 -2.7687869e-03\n",
            " -3.4905989e-03 -4.5727547e-03 -6.4161711e-04 -3.0181343e-03\n",
            " -2.9695691e-03 -3.2593170e-04  1.3507605e-03  5.7806727e-04\n",
            " -1.1127588e-05  1.2221730e-03  1.9570501e-03  5.3005507e-03\n",
            "  1.1909897e-03], shape=(65,), dtype=float32)\n"
          ]
        }
      ]
    },
    {
      "cell_type": "code",
      "source": [
        "# If we want to determine the predicted character we need to sample the output distribution (pick a value based on probabillity)\n",
        "sampled_indices = tf.random.categorical(pred, num_samples=1)\n",
        "\n",
        "# now we can reshape that array and convert all the integers to numbers to see the actual characters\n",
        "sampled_indices = np.reshape(sampled_indices, (1, -1))[0]\n",
        "predicted_chars = int_to_text(sampled_indices)\n",
        "\n",
        "predicted_chars  # and this is what the model predicted for training sequence 1"
      ],
      "metadata": {
        "colab": {
          "base_uri": "https://localhost:8080/",
          "height": 53
        },
        "id": "2WEV6zB_3hlH",
        "outputId": "d4a720e4-12e6-4ec8-81bd-39e5bbdeaa2a"
      },
      "execution_count": 19,
      "outputs": [
        {
          "output_type": "execute_result",
          "data": {
            "text/plain": [
              "\"I. Psu3mqPGph:?lxd!Xg&C:Bki:'eUH:!'RbZfdluUMfb-,l.M\\nvomI&sNVIFV'Yd GYiInqJZAQJtPpqKXHv-Ao;dryHeRngh'\""
            ],
            "application/vnd.google.colaboratory.intrinsic+json": {
              "type": "string"
            }
          },
          "metadata": {},
          "execution_count": 19
        }
      ]
    },
    {
      "cell_type": "code",
      "source": [
        "def loss(labels, logits):\n",
        "  return tf.keras.losses.sparse_categorical_crossentropy(labels, logits, from_logits=True)"
      ],
      "metadata": {
        "id": "sYE1RiC53jYc"
      },
      "execution_count": 21,
      "outputs": []
    }
  ]
}